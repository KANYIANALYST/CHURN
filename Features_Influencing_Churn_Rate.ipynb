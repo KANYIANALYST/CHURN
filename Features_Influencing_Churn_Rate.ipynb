{
  "cells": [
    {
      "cell_type": "markdown",
      "metadata": {
        "id": "iw70qto4yN6c"
      },
      "source": [
        "#**INTRODUCTION**\n",
        "\n",
        "Telco Churn company, is a  company that offers telco services to the customers. Customers have been leaving and this analysis intends to explore the features that has an influence on churning.\n",
        "\n",
        "#About the Data set:\n",
        "* **Customers who left within the last month** – the column is called Churn\n",
        "* **Services that each customer has signed up for** – phone, multiple lines, internet, online security, online backup, device protection, tech support, and streaming TV and movies\n",
        "* **Customer account information**  – how long they’ve been a customer, contract, payment method, paperless billing, monthly charges, and total charges\n",
        "* **Demographic info about customers** – gender, age range, and if they have partners and dependents"
      ]
    },
    {
      "cell_type": "markdown",
      "metadata": {
        "id": "FPexIGWI1hHq"
      },
      "source": [
        "#Importing libraries"
      ]
    },
    {
      "cell_type": "code",
      "execution_count": 25,
      "metadata": {
        "id": "0WL5Ii681thm"
      },
      "outputs": [],
      "source": [
        "import pandas as pd\n",
        "import matplotlib as plt\n",
        "import seaborn as sns\n",
        "import matplotlib.pyplot as plt"
      ]
    },
    {
      "cell_type": "markdown",
      "metadata": {
        "id": "OBS9FT4c3WT2"
      },
      "source": [
        "# Reading dataset"
      ]
    },
    {
      "cell_type": "code",
      "execution_count": 26,
      "metadata": {
        "colab": {
          "base_uri": "https://localhost:8080/",
          "height": 617
        },
        "id": "gxZ0PBbU3VV6",
        "outputId": "8ac9d8d5-61c3-4dc8-998c-1cbcedfe1061"
      },
      "outputs": [
        {
          "output_type": "execute_result",
          "data": {
            "text/plain": [
              "      customerID  gender  SeniorCitizen Partner Dependents  tenure  \\\n",
              "0     7590-VHVEG  Female              0     Yes         No       1   \n",
              "1     5575-GNVDE    Male              0      No         No      34   \n",
              "2     3668-QPYBK    Male              0      No         No       2   \n",
              "3     7795-CFOCW    Male              0      No         No      45   \n",
              "4     9237-HQITU  Female              0      No         No       2   \n",
              "...          ...     ...            ...     ...        ...     ...   \n",
              "7038  6840-RESVB    Male              0     Yes        Yes      24   \n",
              "7039  2234-XADUH  Female              0     Yes        Yes      72   \n",
              "7040  4801-JZAZL  Female              0     Yes        Yes      11   \n",
              "7041  8361-LTMKD    Male              1     Yes         No       4   \n",
              "7042  3186-AJIEK    Male              0      No         No      66   \n",
              "\n",
              "     PhoneService     MultipleLines InternetService OnlineSecurity  ...  \\\n",
              "0              No  No phone service             DSL             No  ...   \n",
              "1             Yes                No             DSL            Yes  ...   \n",
              "2             Yes                No             DSL            Yes  ...   \n",
              "3              No  No phone service             DSL            Yes  ...   \n",
              "4             Yes                No     Fiber optic             No  ...   \n",
              "...           ...               ...             ...            ...  ...   \n",
              "7038          Yes               Yes             DSL            Yes  ...   \n",
              "7039          Yes               Yes     Fiber optic             No  ...   \n",
              "7040           No  No phone service             DSL            Yes  ...   \n",
              "7041          Yes               Yes     Fiber optic             No  ...   \n",
              "7042          Yes                No     Fiber optic            Yes  ...   \n",
              "\n",
              "     DeviceProtection TechSupport StreamingTV StreamingMovies        Contract  \\\n",
              "0                  No          No          No              No  Month-to-month   \n",
              "1                 Yes          No          No              No        One year   \n",
              "2                  No          No          No              No  Month-to-month   \n",
              "3                 Yes         Yes          No              No        One year   \n",
              "4                  No          No          No              No  Month-to-month   \n",
              "...               ...         ...         ...             ...             ...   \n",
              "7038              Yes         Yes         Yes             Yes        One year   \n",
              "7039              Yes          No         Yes             Yes        One year   \n",
              "7040               No          No          No              No  Month-to-month   \n",
              "7041               No          No          No              No  Month-to-month   \n",
              "7042              Yes         Yes         Yes             Yes        Two year   \n",
              "\n",
              "     PaperlessBilling              PaymentMethod MonthlyCharges  TotalCharges  \\\n",
              "0                 Yes           Electronic check          29.85         29.85   \n",
              "1                  No               Mailed check          56.95        1889.5   \n",
              "2                 Yes               Mailed check          53.85        108.15   \n",
              "3                  No  Bank transfer (automatic)          42.30       1840.75   \n",
              "4                 Yes           Electronic check          70.70        151.65   \n",
              "...               ...                        ...            ...           ...   \n",
              "7038              Yes               Mailed check          84.80        1990.5   \n",
              "7039              Yes    Credit card (automatic)         103.20        7362.9   \n",
              "7040              Yes           Electronic check          29.60        346.45   \n",
              "7041              Yes               Mailed check          74.40         306.6   \n",
              "7042              Yes  Bank transfer (automatic)         105.65        6844.5   \n",
              "\n",
              "     Churn  \n",
              "0       No  \n",
              "1       No  \n",
              "2      Yes  \n",
              "3       No  \n",
              "4      Yes  \n",
              "...    ...  \n",
              "7038    No  \n",
              "7039    No  \n",
              "7040    No  \n",
              "7041   Yes  \n",
              "7042    No  \n",
              "\n",
              "[7043 rows x 21 columns]"
            ],
            "text/html": [
              "\n",
              "  <div id=\"df-01910267-3c65-4791-80ec-1250c463206d\" class=\"colab-df-container\">\n",
              "    <div>\n",
              "<style scoped>\n",
              "    .dataframe tbody tr th:only-of-type {\n",
              "        vertical-align: middle;\n",
              "    }\n",
              "\n",
              "    .dataframe tbody tr th {\n",
              "        vertical-align: top;\n",
              "    }\n",
              "\n",
              "    .dataframe thead th {\n",
              "        text-align: right;\n",
              "    }\n",
              "</style>\n",
              "<table border=\"1\" class=\"dataframe\">\n",
              "  <thead>\n",
              "    <tr style=\"text-align: right;\">\n",
              "      <th></th>\n",
              "      <th>customerID</th>\n",
              "      <th>gender</th>\n",
              "      <th>SeniorCitizen</th>\n",
              "      <th>Partner</th>\n",
              "      <th>Dependents</th>\n",
              "      <th>tenure</th>\n",
              "      <th>PhoneService</th>\n",
              "      <th>MultipleLines</th>\n",
              "      <th>InternetService</th>\n",
              "      <th>OnlineSecurity</th>\n",
              "      <th>...</th>\n",
              "      <th>DeviceProtection</th>\n",
              "      <th>TechSupport</th>\n",
              "      <th>StreamingTV</th>\n",
              "      <th>StreamingMovies</th>\n",
              "      <th>Contract</th>\n",
              "      <th>PaperlessBilling</th>\n",
              "      <th>PaymentMethod</th>\n",
              "      <th>MonthlyCharges</th>\n",
              "      <th>TotalCharges</th>\n",
              "      <th>Churn</th>\n",
              "    </tr>\n",
              "  </thead>\n",
              "  <tbody>\n",
              "    <tr>\n",
              "      <th>0</th>\n",
              "      <td>7590-VHVEG</td>\n",
              "      <td>Female</td>\n",
              "      <td>0</td>\n",
              "      <td>Yes</td>\n",
              "      <td>No</td>\n",
              "      <td>1</td>\n",
              "      <td>No</td>\n",
              "      <td>No phone service</td>\n",
              "      <td>DSL</td>\n",
              "      <td>No</td>\n",
              "      <td>...</td>\n",
              "      <td>No</td>\n",
              "      <td>No</td>\n",
              "      <td>No</td>\n",
              "      <td>No</td>\n",
              "      <td>Month-to-month</td>\n",
              "      <td>Yes</td>\n",
              "      <td>Electronic check</td>\n",
              "      <td>29.85</td>\n",
              "      <td>29.85</td>\n",
              "      <td>No</td>\n",
              "    </tr>\n",
              "    <tr>\n",
              "      <th>1</th>\n",
              "      <td>5575-GNVDE</td>\n",
              "      <td>Male</td>\n",
              "      <td>0</td>\n",
              "      <td>No</td>\n",
              "      <td>No</td>\n",
              "      <td>34</td>\n",
              "      <td>Yes</td>\n",
              "      <td>No</td>\n",
              "      <td>DSL</td>\n",
              "      <td>Yes</td>\n",
              "      <td>...</td>\n",
              "      <td>Yes</td>\n",
              "      <td>No</td>\n",
              "      <td>No</td>\n",
              "      <td>No</td>\n",
              "      <td>One year</td>\n",
              "      <td>No</td>\n",
              "      <td>Mailed check</td>\n",
              "      <td>56.95</td>\n",
              "      <td>1889.5</td>\n",
              "      <td>No</td>\n",
              "    </tr>\n",
              "    <tr>\n",
              "      <th>2</th>\n",
              "      <td>3668-QPYBK</td>\n",
              "      <td>Male</td>\n",
              "      <td>0</td>\n",
              "      <td>No</td>\n",
              "      <td>No</td>\n",
              "      <td>2</td>\n",
              "      <td>Yes</td>\n",
              "      <td>No</td>\n",
              "      <td>DSL</td>\n",
              "      <td>Yes</td>\n",
              "      <td>...</td>\n",
              "      <td>No</td>\n",
              "      <td>No</td>\n",
              "      <td>No</td>\n",
              "      <td>No</td>\n",
              "      <td>Month-to-month</td>\n",
              "      <td>Yes</td>\n",
              "      <td>Mailed check</td>\n",
              "      <td>53.85</td>\n",
              "      <td>108.15</td>\n",
              "      <td>Yes</td>\n",
              "    </tr>\n",
              "    <tr>\n",
              "      <th>3</th>\n",
              "      <td>7795-CFOCW</td>\n",
              "      <td>Male</td>\n",
              "      <td>0</td>\n",
              "      <td>No</td>\n",
              "      <td>No</td>\n",
              "      <td>45</td>\n",
              "      <td>No</td>\n",
              "      <td>No phone service</td>\n",
              "      <td>DSL</td>\n",
              "      <td>Yes</td>\n",
              "      <td>...</td>\n",
              "      <td>Yes</td>\n",
              "      <td>Yes</td>\n",
              "      <td>No</td>\n",
              "      <td>No</td>\n",
              "      <td>One year</td>\n",
              "      <td>No</td>\n",
              "      <td>Bank transfer (automatic)</td>\n",
              "      <td>42.30</td>\n",
              "      <td>1840.75</td>\n",
              "      <td>No</td>\n",
              "    </tr>\n",
              "    <tr>\n",
              "      <th>4</th>\n",
              "      <td>9237-HQITU</td>\n",
              "      <td>Female</td>\n",
              "      <td>0</td>\n",
              "      <td>No</td>\n",
              "      <td>No</td>\n",
              "      <td>2</td>\n",
              "      <td>Yes</td>\n",
              "      <td>No</td>\n",
              "      <td>Fiber optic</td>\n",
              "      <td>No</td>\n",
              "      <td>...</td>\n",
              "      <td>No</td>\n",
              "      <td>No</td>\n",
              "      <td>No</td>\n",
              "      <td>No</td>\n",
              "      <td>Month-to-month</td>\n",
              "      <td>Yes</td>\n",
              "      <td>Electronic check</td>\n",
              "      <td>70.70</td>\n",
              "      <td>151.65</td>\n",
              "      <td>Yes</td>\n",
              "    </tr>\n",
              "    <tr>\n",
              "      <th>...</th>\n",
              "      <td>...</td>\n",
              "      <td>...</td>\n",
              "      <td>...</td>\n",
              "      <td>...</td>\n",
              "      <td>...</td>\n",
              "      <td>...</td>\n",
              "      <td>...</td>\n",
              "      <td>...</td>\n",
              "      <td>...</td>\n",
              "      <td>...</td>\n",
              "      <td>...</td>\n",
              "      <td>...</td>\n",
              "      <td>...</td>\n",
              "      <td>...</td>\n",
              "      <td>...</td>\n",
              "      <td>...</td>\n",
              "      <td>...</td>\n",
              "      <td>...</td>\n",
              "      <td>...</td>\n",
              "      <td>...</td>\n",
              "      <td>...</td>\n",
              "    </tr>\n",
              "    <tr>\n",
              "      <th>7038</th>\n",
              "      <td>6840-RESVB</td>\n",
              "      <td>Male</td>\n",
              "      <td>0</td>\n",
              "      <td>Yes</td>\n",
              "      <td>Yes</td>\n",
              "      <td>24</td>\n",
              "      <td>Yes</td>\n",
              "      <td>Yes</td>\n",
              "      <td>DSL</td>\n",
              "      <td>Yes</td>\n",
              "      <td>...</td>\n",
              "      <td>Yes</td>\n",
              "      <td>Yes</td>\n",
              "      <td>Yes</td>\n",
              "      <td>Yes</td>\n",
              "      <td>One year</td>\n",
              "      <td>Yes</td>\n",
              "      <td>Mailed check</td>\n",
              "      <td>84.80</td>\n",
              "      <td>1990.5</td>\n",
              "      <td>No</td>\n",
              "    </tr>\n",
              "    <tr>\n",
              "      <th>7039</th>\n",
              "      <td>2234-XADUH</td>\n",
              "      <td>Female</td>\n",
              "      <td>0</td>\n",
              "      <td>Yes</td>\n",
              "      <td>Yes</td>\n",
              "      <td>72</td>\n",
              "      <td>Yes</td>\n",
              "      <td>Yes</td>\n",
              "      <td>Fiber optic</td>\n",
              "      <td>No</td>\n",
              "      <td>...</td>\n",
              "      <td>Yes</td>\n",
              "      <td>No</td>\n",
              "      <td>Yes</td>\n",
              "      <td>Yes</td>\n",
              "      <td>One year</td>\n",
              "      <td>Yes</td>\n",
              "      <td>Credit card (automatic)</td>\n",
              "      <td>103.20</td>\n",
              "      <td>7362.9</td>\n",
              "      <td>No</td>\n",
              "    </tr>\n",
              "    <tr>\n",
              "      <th>7040</th>\n",
              "      <td>4801-JZAZL</td>\n",
              "      <td>Female</td>\n",
              "      <td>0</td>\n",
              "      <td>Yes</td>\n",
              "      <td>Yes</td>\n",
              "      <td>11</td>\n",
              "      <td>No</td>\n",
              "      <td>No phone service</td>\n",
              "      <td>DSL</td>\n",
              "      <td>Yes</td>\n",
              "      <td>...</td>\n",
              "      <td>No</td>\n",
              "      <td>No</td>\n",
              "      <td>No</td>\n",
              "      <td>No</td>\n",
              "      <td>Month-to-month</td>\n",
              "      <td>Yes</td>\n",
              "      <td>Electronic check</td>\n",
              "      <td>29.60</td>\n",
              "      <td>346.45</td>\n",
              "      <td>No</td>\n",
              "    </tr>\n",
              "    <tr>\n",
              "      <th>7041</th>\n",
              "      <td>8361-LTMKD</td>\n",
              "      <td>Male</td>\n",
              "      <td>1</td>\n",
              "      <td>Yes</td>\n",
              "      <td>No</td>\n",
              "      <td>4</td>\n",
              "      <td>Yes</td>\n",
              "      <td>Yes</td>\n",
              "      <td>Fiber optic</td>\n",
              "      <td>No</td>\n",
              "      <td>...</td>\n",
              "      <td>No</td>\n",
              "      <td>No</td>\n",
              "      <td>No</td>\n",
              "      <td>No</td>\n",
              "      <td>Month-to-month</td>\n",
              "      <td>Yes</td>\n",
              "      <td>Mailed check</td>\n",
              "      <td>74.40</td>\n",
              "      <td>306.6</td>\n",
              "      <td>Yes</td>\n",
              "    </tr>\n",
              "    <tr>\n",
              "      <th>7042</th>\n",
              "      <td>3186-AJIEK</td>\n",
              "      <td>Male</td>\n",
              "      <td>0</td>\n",
              "      <td>No</td>\n",
              "      <td>No</td>\n",
              "      <td>66</td>\n",
              "      <td>Yes</td>\n",
              "      <td>No</td>\n",
              "      <td>Fiber optic</td>\n",
              "      <td>Yes</td>\n",
              "      <td>...</td>\n",
              "      <td>Yes</td>\n",
              "      <td>Yes</td>\n",
              "      <td>Yes</td>\n",
              "      <td>Yes</td>\n",
              "      <td>Two year</td>\n",
              "      <td>Yes</td>\n",
              "      <td>Bank transfer (automatic)</td>\n",
              "      <td>105.65</td>\n",
              "      <td>6844.5</td>\n",
              "      <td>No</td>\n",
              "    </tr>\n",
              "  </tbody>\n",
              "</table>\n",
              "<p>7043 rows × 21 columns</p>\n",
              "</div>\n",
              "    <div class=\"colab-df-buttons\">\n",
              "\n",
              "  <div class=\"colab-df-container\">\n",
              "    <button class=\"colab-df-convert\" onclick=\"convertToInteractive('df-01910267-3c65-4791-80ec-1250c463206d')\"\n",
              "            title=\"Convert this dataframe to an interactive table.\"\n",
              "            style=\"display:none;\">\n",
              "\n",
              "  <svg xmlns=\"http://www.w3.org/2000/svg\" height=\"24px\" viewBox=\"0 -960 960 960\">\n",
              "    <path d=\"M120-120v-720h720v720H120Zm60-500h600v-160H180v160Zm220 220h160v-160H400v160Zm0 220h160v-160H400v160ZM180-400h160v-160H180v160Zm440 0h160v-160H620v160ZM180-180h160v-160H180v160Zm440 0h160v-160H620v160Z\"/>\n",
              "  </svg>\n",
              "    </button>\n",
              "\n",
              "  <style>\n",
              "    .colab-df-container {\n",
              "      display:flex;\n",
              "      gap: 12px;\n",
              "    }\n",
              "\n",
              "    .colab-df-convert {\n",
              "      background-color: #E8F0FE;\n",
              "      border: none;\n",
              "      border-radius: 50%;\n",
              "      cursor: pointer;\n",
              "      display: none;\n",
              "      fill: #1967D2;\n",
              "      height: 32px;\n",
              "      padding: 0 0 0 0;\n",
              "      width: 32px;\n",
              "    }\n",
              "\n",
              "    .colab-df-convert:hover {\n",
              "      background-color: #E2EBFA;\n",
              "      box-shadow: 0px 1px 2px rgba(60, 64, 67, 0.3), 0px 1px 3px 1px rgba(60, 64, 67, 0.15);\n",
              "      fill: #174EA6;\n",
              "    }\n",
              "\n",
              "    .colab-df-buttons div {\n",
              "      margin-bottom: 4px;\n",
              "    }\n",
              "\n",
              "    [theme=dark] .colab-df-convert {\n",
              "      background-color: #3B4455;\n",
              "      fill: #D2E3FC;\n",
              "    }\n",
              "\n",
              "    [theme=dark] .colab-df-convert:hover {\n",
              "      background-color: #434B5C;\n",
              "      box-shadow: 0px 1px 3px 1px rgba(0, 0, 0, 0.15);\n",
              "      filter: drop-shadow(0px 1px 2px rgba(0, 0, 0, 0.3));\n",
              "      fill: #FFFFFF;\n",
              "    }\n",
              "  </style>\n",
              "\n",
              "    <script>\n",
              "      const buttonEl =\n",
              "        document.querySelector('#df-01910267-3c65-4791-80ec-1250c463206d button.colab-df-convert');\n",
              "      buttonEl.style.display =\n",
              "        google.colab.kernel.accessAllowed ? 'block' : 'none';\n",
              "\n",
              "      async function convertToInteractive(key) {\n",
              "        const element = document.querySelector('#df-01910267-3c65-4791-80ec-1250c463206d');\n",
              "        const dataTable =\n",
              "          await google.colab.kernel.invokeFunction('convertToInteractive',\n",
              "                                                    [key], {});\n",
              "        if (!dataTable) return;\n",
              "\n",
              "        const docLinkHtml = 'Like what you see? Visit the ' +\n",
              "          '<a target=\"_blank\" href=https://colab.research.google.com/notebooks/data_table.ipynb>data table notebook</a>'\n",
              "          + ' to learn more about interactive tables.';\n",
              "        element.innerHTML = '';\n",
              "        dataTable['output_type'] = 'display_data';\n",
              "        await google.colab.output.renderOutput(dataTable, element);\n",
              "        const docLink = document.createElement('div');\n",
              "        docLink.innerHTML = docLinkHtml;\n",
              "        element.appendChild(docLink);\n",
              "      }\n",
              "    </script>\n",
              "  </div>\n",
              "\n",
              "\n",
              "<div id=\"df-fe69270b-c6a2-4fa0-a778-9649ef23b33f\">\n",
              "  <button class=\"colab-df-quickchart\" onclick=\"quickchart('df-fe69270b-c6a2-4fa0-a778-9649ef23b33f')\"\n",
              "            title=\"Suggest charts\"\n",
              "            style=\"display:none;\">\n",
              "\n",
              "<svg xmlns=\"http://www.w3.org/2000/svg\" height=\"24px\"viewBox=\"0 0 24 24\"\n",
              "     width=\"24px\">\n",
              "    <g>\n",
              "        <path d=\"M19 3H5c-1.1 0-2 .9-2 2v14c0 1.1.9 2 2 2h14c1.1 0 2-.9 2-2V5c0-1.1-.9-2-2-2zM9 17H7v-7h2v7zm4 0h-2V7h2v10zm4 0h-2v-4h2v4z\"/>\n",
              "    </g>\n",
              "</svg>\n",
              "  </button>\n",
              "\n",
              "<style>\n",
              "  .colab-df-quickchart {\n",
              "      --bg-color: #E8F0FE;\n",
              "      --fill-color: #1967D2;\n",
              "      --hover-bg-color: #E2EBFA;\n",
              "      --hover-fill-color: #174EA6;\n",
              "      --disabled-fill-color: #AAA;\n",
              "      --disabled-bg-color: #DDD;\n",
              "  }\n",
              "\n",
              "  [theme=dark] .colab-df-quickchart {\n",
              "      --bg-color: #3B4455;\n",
              "      --fill-color: #D2E3FC;\n",
              "      --hover-bg-color: #434B5C;\n",
              "      --hover-fill-color: #FFFFFF;\n",
              "      --disabled-bg-color: #3B4455;\n",
              "      --disabled-fill-color: #666;\n",
              "  }\n",
              "\n",
              "  .colab-df-quickchart {\n",
              "    background-color: var(--bg-color);\n",
              "    border: none;\n",
              "    border-radius: 50%;\n",
              "    cursor: pointer;\n",
              "    display: none;\n",
              "    fill: var(--fill-color);\n",
              "    height: 32px;\n",
              "    padding: 0;\n",
              "    width: 32px;\n",
              "  }\n",
              "\n",
              "  .colab-df-quickchart:hover {\n",
              "    background-color: var(--hover-bg-color);\n",
              "    box-shadow: 0 1px 2px rgba(60, 64, 67, 0.3), 0 1px 3px 1px rgba(60, 64, 67, 0.15);\n",
              "    fill: var(--button-hover-fill-color);\n",
              "  }\n",
              "\n",
              "  .colab-df-quickchart-complete:disabled,\n",
              "  .colab-df-quickchart-complete:disabled:hover {\n",
              "    background-color: var(--disabled-bg-color);\n",
              "    fill: var(--disabled-fill-color);\n",
              "    box-shadow: none;\n",
              "  }\n",
              "\n",
              "  .colab-df-spinner {\n",
              "    border: 2px solid var(--fill-color);\n",
              "    border-color: transparent;\n",
              "    border-bottom-color: var(--fill-color);\n",
              "    animation:\n",
              "      spin 1s steps(1) infinite;\n",
              "  }\n",
              "\n",
              "  @keyframes spin {\n",
              "    0% {\n",
              "      border-color: transparent;\n",
              "      border-bottom-color: var(--fill-color);\n",
              "      border-left-color: var(--fill-color);\n",
              "    }\n",
              "    20% {\n",
              "      border-color: transparent;\n",
              "      border-left-color: var(--fill-color);\n",
              "      border-top-color: var(--fill-color);\n",
              "    }\n",
              "    30% {\n",
              "      border-color: transparent;\n",
              "      border-left-color: var(--fill-color);\n",
              "      border-top-color: var(--fill-color);\n",
              "      border-right-color: var(--fill-color);\n",
              "    }\n",
              "    40% {\n",
              "      border-color: transparent;\n",
              "      border-right-color: var(--fill-color);\n",
              "      border-top-color: var(--fill-color);\n",
              "    }\n",
              "    60% {\n",
              "      border-color: transparent;\n",
              "      border-right-color: var(--fill-color);\n",
              "    }\n",
              "    80% {\n",
              "      border-color: transparent;\n",
              "      border-right-color: var(--fill-color);\n",
              "      border-bottom-color: var(--fill-color);\n",
              "    }\n",
              "    90% {\n",
              "      border-color: transparent;\n",
              "      border-bottom-color: var(--fill-color);\n",
              "    }\n",
              "  }\n",
              "</style>\n",
              "\n",
              "  <script>\n",
              "    async function quickchart(key) {\n",
              "      const quickchartButtonEl =\n",
              "        document.querySelector('#' + key + ' button');\n",
              "      quickchartButtonEl.disabled = true;  // To prevent multiple clicks.\n",
              "      quickchartButtonEl.classList.add('colab-df-spinner');\n",
              "      try {\n",
              "        const charts = await google.colab.kernel.invokeFunction(\n",
              "            'suggestCharts', [key], {});\n",
              "      } catch (error) {\n",
              "        console.error('Error during call to suggestCharts:', error);\n",
              "      }\n",
              "      quickchartButtonEl.classList.remove('colab-df-spinner');\n",
              "      quickchartButtonEl.classList.add('colab-df-quickchart-complete');\n",
              "    }\n",
              "    (() => {\n",
              "      let quickchartButtonEl =\n",
              "        document.querySelector('#df-fe69270b-c6a2-4fa0-a778-9649ef23b33f button');\n",
              "      quickchartButtonEl.style.display =\n",
              "        google.colab.kernel.accessAllowed ? 'block' : 'none';\n",
              "    })();\n",
              "  </script>\n",
              "</div>\n",
              "\n",
              "  <div id=\"id_8a3e731d-7254-4c32-a1d9-dd33828f9337\">\n",
              "    <style>\n",
              "      .colab-df-generate {\n",
              "        background-color: #E8F0FE;\n",
              "        border: none;\n",
              "        border-radius: 50%;\n",
              "        cursor: pointer;\n",
              "        display: none;\n",
              "        fill: #1967D2;\n",
              "        height: 32px;\n",
              "        padding: 0 0 0 0;\n",
              "        width: 32px;\n",
              "      }\n",
              "\n",
              "      .colab-df-generate:hover {\n",
              "        background-color: #E2EBFA;\n",
              "        box-shadow: 0px 1px 2px rgba(60, 64, 67, 0.3), 0px 1px 3px 1px rgba(60, 64, 67, 0.15);\n",
              "        fill: #174EA6;\n",
              "      }\n",
              "\n",
              "      [theme=dark] .colab-df-generate {\n",
              "        background-color: #3B4455;\n",
              "        fill: #D2E3FC;\n",
              "      }\n",
              "\n",
              "      [theme=dark] .colab-df-generate:hover {\n",
              "        background-color: #434B5C;\n",
              "        box-shadow: 0px 1px 3px 1px rgba(0, 0, 0, 0.15);\n",
              "        filter: drop-shadow(0px 1px 2px rgba(0, 0, 0, 0.3));\n",
              "        fill: #FFFFFF;\n",
              "      }\n",
              "    </style>\n",
              "    <button class=\"colab-df-generate\" onclick=\"generateWithVariable('df')\"\n",
              "            title=\"Generate code using this dataframe.\"\n",
              "            style=\"display:none;\">\n",
              "\n",
              "  <svg xmlns=\"http://www.w3.org/2000/svg\" height=\"24px\"viewBox=\"0 0 24 24\"\n",
              "       width=\"24px\">\n",
              "    <path d=\"M7,19H8.4L18.45,9,17,7.55,7,17.6ZM5,21V16.75L18.45,3.32a2,2,0,0,1,2.83,0l1.4,1.43a1.91,1.91,0,0,1,.58,1.4,1.91,1.91,0,0,1-.58,1.4L9.25,21ZM18.45,9,17,7.55Zm-12,3A5.31,5.31,0,0,0,4.9,8.1,5.31,5.31,0,0,0,1,6.5,5.31,5.31,0,0,0,4.9,4.9,5.31,5.31,0,0,0,6.5,1,5.31,5.31,0,0,0,8.1,4.9,5.31,5.31,0,0,0,12,6.5,5.46,5.46,0,0,0,6.5,12Z\"/>\n",
              "  </svg>\n",
              "    </button>\n",
              "    <script>\n",
              "      (() => {\n",
              "      const buttonEl =\n",
              "        document.querySelector('#id_8a3e731d-7254-4c32-a1d9-dd33828f9337 button.colab-df-generate');\n",
              "      buttonEl.style.display =\n",
              "        google.colab.kernel.accessAllowed ? 'block' : 'none';\n",
              "\n",
              "      buttonEl.onclick = () => {\n",
              "        google.colab.notebook.generateWithVariable('df');\n",
              "      }\n",
              "      })();\n",
              "    </script>\n",
              "  </div>\n",
              "\n",
              "    </div>\n",
              "  </div>\n"
            ]
          },
          "metadata": {},
          "execution_count": 26
        }
      ],
      "source": [
        "df=pd.read_csv(\"/Telco-Customer-Churn.csv\")\n",
        "df"
      ]
    },
    {
      "cell_type": "markdown",
      "metadata": {
        "id": "b2h59I7B4s-m"
      },
      "source": [
        "# Data Exploration"
      ]
    },
    {
      "cell_type": "code",
      "execution_count": 62,
      "metadata": {
        "colab": {
          "base_uri": "https://localhost:8080/",
          "height": 300
        },
        "id": "gXmj8scLgA7M",
        "outputId": "38d77fa7-0870-4efa-fc9f-05d15a0d72b5"
      },
      "outputs": [
        {
          "output_type": "execute_result",
          "data": {
            "text/plain": [
              "<pandas.io.formats.style.Styler at 0x7f8661457dc0>"
            ],
            "text/html": [
              "<style type=\"text/css\">\n",
              "#T_cdf99_row0_col0, #T_cdf99_row0_col1, #T_cdf99_row0_col3, #T_cdf99_row7_col2 {\n",
              "  background-color: #08306b;\n",
              "  color: #f1f1f1;\n",
              "}\n",
              "#T_cdf99_row0_col2 {\n",
              "  background-color: #1561a9;\n",
              "  color: #f1f1f1;\n",
              "}\n",
              "#T_cdf99_row1_col0, #T_cdf99_row1_col1, #T_cdf99_row5_col0, #T_cdf99_row5_col1, #T_cdf99_row6_col0 {\n",
              "  background-color: #f6faff;\n",
              "  color: #000000;\n",
              "}\n",
              "#T_cdf99_row1_col2, #T_cdf99_row2_col2 {\n",
              "  background-color: #c3daee;\n",
              "  color: #000000;\n",
              "}\n",
              "#T_cdf99_row1_col3, #T_cdf99_row2_col0, #T_cdf99_row2_col1, #T_cdf99_row2_col3, #T_cdf99_row3_col0, #T_cdf99_row3_col1, #T_cdf99_row3_col2, #T_cdf99_row3_col3, #T_cdf99_row4_col0, #T_cdf99_row4_col1, #T_cdf99_row4_col3, #T_cdf99_row5_col3, #T_cdf99_row6_col3, #T_cdf99_row7_col3 {\n",
              "  background-color: #f7fbff;\n",
              "  color: #000000;\n",
              "}\n",
              "#T_cdf99_row4_col2 {\n",
              "  background-color: #eef5fc;\n",
              "  color: #000000;\n",
              "}\n",
              "#T_cdf99_row5_col2 {\n",
              "  background-color: #d8e7f5;\n",
              "  color: #000000;\n",
              "}\n",
              "#T_cdf99_row6_col1, #T_cdf99_row7_col0 {\n",
              "  background-color: #f5fafe;\n",
              "  color: #000000;\n",
              "}\n",
              "#T_cdf99_row6_col2 {\n",
              "  background-color: #85bcdc;\n",
              "  color: #000000;\n",
              "}\n",
              "#T_cdf99_row7_col1 {\n",
              "  background-color: #f5f9fe;\n",
              "  color: #000000;\n",
              "}\n",
              "</style>\n",
              "<table id=\"T_cdf99\" class=\"dataframe\">\n",
              "  <thead>\n",
              "    <tr>\n",
              "      <th class=\"blank level0\" >&nbsp;</th>\n",
              "      <th id=\"T_cdf99_level0_col0\" class=\"col_heading level0 col0\" >tenure</th>\n",
              "      <th id=\"T_cdf99_level0_col1\" class=\"col_heading level0 col1\" >MonthlyCharges</th>\n",
              "      <th id=\"T_cdf99_level0_col2\" class=\"col_heading level0 col2\" >TotalCharges</th>\n",
              "      <th id=\"T_cdf99_level0_col3\" class=\"col_heading level0 col3\" >Churn_N</th>\n",
              "    </tr>\n",
              "  </thead>\n",
              "  <tbody>\n",
              "    <tr>\n",
              "      <th id=\"T_cdf99_level0_row0\" class=\"row_heading level0 row0\" >count</th>\n",
              "      <td id=\"T_cdf99_row0_col0\" class=\"data row0 col0\" >7032.00</td>\n",
              "      <td id=\"T_cdf99_row0_col1\" class=\"data row0 col1\" >7032.00</td>\n",
              "      <td id=\"T_cdf99_row0_col2\" class=\"data row0 col2\" >7032.00</td>\n",
              "      <td id=\"T_cdf99_row0_col3\" class=\"data row0 col3\" >7032.00</td>\n",
              "    </tr>\n",
              "    <tr>\n",
              "      <th id=\"T_cdf99_level0_row1\" class=\"row_heading level0 row1\" >mean</th>\n",
              "      <td id=\"T_cdf99_row1_col0\" class=\"data row1 col0\" >32.42</td>\n",
              "      <td id=\"T_cdf99_row1_col1\" class=\"data row1 col1\" >64.80</td>\n",
              "      <td id=\"T_cdf99_row1_col2\" class=\"data row1 col2\" >2283.30</td>\n",
              "      <td id=\"T_cdf99_row1_col3\" class=\"data row1 col3\" >0.27</td>\n",
              "    </tr>\n",
              "    <tr>\n",
              "      <th id=\"T_cdf99_level0_row2\" class=\"row_heading level0 row2\" >std</th>\n",
              "      <td id=\"T_cdf99_row2_col0\" class=\"data row2 col0\" >24.55</td>\n",
              "      <td id=\"T_cdf99_row2_col1\" class=\"data row2 col1\" >30.09</td>\n",
              "      <td id=\"T_cdf99_row2_col2\" class=\"data row2 col2\" >2266.77</td>\n",
              "      <td id=\"T_cdf99_row2_col3\" class=\"data row2 col3\" >0.44</td>\n",
              "    </tr>\n",
              "    <tr>\n",
              "      <th id=\"T_cdf99_level0_row3\" class=\"row_heading level0 row3\" >min</th>\n",
              "      <td id=\"T_cdf99_row3_col0\" class=\"data row3 col0\" >1.00</td>\n",
              "      <td id=\"T_cdf99_row3_col1\" class=\"data row3 col1\" >18.25</td>\n",
              "      <td id=\"T_cdf99_row3_col2\" class=\"data row3 col2\" >18.80</td>\n",
              "      <td id=\"T_cdf99_row3_col3\" class=\"data row3 col3\" >0.00</td>\n",
              "    </tr>\n",
              "    <tr>\n",
              "      <th id=\"T_cdf99_level0_row4\" class=\"row_heading level0 row4\" >25%</th>\n",
              "      <td id=\"T_cdf99_row4_col0\" class=\"data row4 col0\" >9.00</td>\n",
              "      <td id=\"T_cdf99_row4_col1\" class=\"data row4 col1\" >35.59</td>\n",
              "      <td id=\"T_cdf99_row4_col2\" class=\"data row4 col2\" >401.45</td>\n",
              "      <td id=\"T_cdf99_row4_col3\" class=\"data row4 col3\" >0.00</td>\n",
              "    </tr>\n",
              "    <tr>\n",
              "      <th id=\"T_cdf99_level0_row5\" class=\"row_heading level0 row5\" >50%</th>\n",
              "      <td id=\"T_cdf99_row5_col0\" class=\"data row5 col0\" >29.00</td>\n",
              "      <td id=\"T_cdf99_row5_col1\" class=\"data row5 col1\" >70.35</td>\n",
              "      <td id=\"T_cdf99_row5_col2\" class=\"data row5 col2\" >1397.48</td>\n",
              "      <td id=\"T_cdf99_row5_col3\" class=\"data row5 col3\" >0.00</td>\n",
              "    </tr>\n",
              "    <tr>\n",
              "      <th id=\"T_cdf99_level0_row6\" class=\"row_heading level0 row6\" >75%</th>\n",
              "      <td id=\"T_cdf99_row6_col0\" class=\"data row6 col0\" >55.00</td>\n",
              "      <td id=\"T_cdf99_row6_col1\" class=\"data row6 col1\" >89.86</td>\n",
              "      <td id=\"T_cdf99_row6_col2\" class=\"data row6 col2\" >3794.74</td>\n",
              "      <td id=\"T_cdf99_row6_col3\" class=\"data row6 col3\" >1.00</td>\n",
              "    </tr>\n",
              "    <tr>\n",
              "      <th id=\"T_cdf99_level0_row7\" class=\"row_heading level0 row7\" >max</th>\n",
              "      <td id=\"T_cdf99_row7_col0\" class=\"data row7 col0\" >72.00</td>\n",
              "      <td id=\"T_cdf99_row7_col1\" class=\"data row7 col1\" >118.75</td>\n",
              "      <td id=\"T_cdf99_row7_col2\" class=\"data row7 col2\" >8684.80</td>\n",
              "      <td id=\"T_cdf99_row7_col3\" class=\"data row7 col3\" >1.00</td>\n",
              "    </tr>\n",
              "  </tbody>\n",
              "</table>\n"
            ]
          },
          "metadata": {},
          "execution_count": 62
        }
      ],
      "source": [
        "#Summary viewing\n",
        "df.describe().round(2).style.format(precision=2).background_gradient(cmap=\"Blues\")"
      ]
    },
    {
      "cell_type": "code",
      "execution_count": 28,
      "metadata": {
        "colab": {
          "base_uri": "https://localhost:8080/"
        },
        "id": "a_KciNEr3mbn",
        "outputId": "fa51afdd-0408-434d-b7c2-887933930431"
      },
      "outputs": [
        {
          "output_type": "stream",
          "name": "stdout",
          "text": [
            "<class 'pandas.core.frame.DataFrame'>\n",
            "RangeIndex: 7043 entries, 0 to 7042\n",
            "Data columns (total 21 columns):\n",
            " #   Column            Non-Null Count  Dtype  \n",
            "---  ------            --------------  -----  \n",
            " 0   customerID        7043 non-null   object \n",
            " 1   gender            7043 non-null   object \n",
            " 2   SeniorCitizen     7043 non-null   int64  \n",
            " 3   Partner           7043 non-null   object \n",
            " 4   Dependents        7043 non-null   object \n",
            " 5   tenure            7043 non-null   int64  \n",
            " 6   PhoneService      7043 non-null   object \n",
            " 7   MultipleLines     7043 non-null   object \n",
            " 8   InternetService   7043 non-null   object \n",
            " 9   OnlineSecurity    7043 non-null   object \n",
            " 10  OnlineBackup      7043 non-null   object \n",
            " 11  DeviceProtection  7043 non-null   object \n",
            " 12  TechSupport       7043 non-null   object \n",
            " 13  StreamingTV       7043 non-null   object \n",
            " 14  StreamingMovies   7043 non-null   object \n",
            " 15  Contract          7043 non-null   object \n",
            " 16  PaperlessBilling  7043 non-null   object \n",
            " 17  PaymentMethod     7043 non-null   object \n",
            " 18  MonthlyCharges    7043 non-null   float64\n",
            " 19  TotalCharges      7043 non-null   object \n",
            " 20  Churn             7043 non-null   object \n",
            "dtypes: float64(1), int64(2), object(18)\n",
            "memory usage: 1.1+ MB\n"
          ]
        }
      ],
      "source": [
        "#Viewing dataset information\n",
        "df.info()"
      ]
    },
    {
      "cell_type": "markdown",
      "source": [
        "# Data Cleaning"
      ],
      "metadata": {
        "id": "_k4I72W31CoN"
      }
    },
    {
      "cell_type": "code",
      "source": [
        "# Checking for null values\n",
        "df.isnull().sum()"
      ],
      "metadata": {
        "colab": {
          "base_uri": "https://localhost:8080/"
        },
        "id": "wBRsfKIN1NGt",
        "outputId": "75207817-fddf-41dc-a6bf-2891c977e658"
      },
      "execution_count": 64,
      "outputs": [
        {
          "output_type": "execute_result",
          "data": {
            "text/plain": [
              "customerID          0\n",
              "gender              0\n",
              "SeniorCitizen       0\n",
              "Partner             0\n",
              "Dependents          0\n",
              "tenure              0\n",
              "PhoneService        0\n",
              "MultipleLines       0\n",
              "InternetService     0\n",
              "OnlineSecurity      0\n",
              "OnlineBackup        0\n",
              "DeviceProtection    0\n",
              "TechSupport         0\n",
              "StreamingTV         0\n",
              "StreamingMovies     0\n",
              "Contract            0\n",
              "PaperlessBilling    0\n",
              "PaymentMethod       0\n",
              "MonthlyCharges      0\n",
              "TotalCharges        0\n",
              "Churn               0\n",
              "Churn_N             0\n",
              "dtype: int64"
            ]
          },
          "metadata": {},
          "execution_count": 64
        }
      ]
    },
    {
      "cell_type": "code",
      "source": [
        "# Checking for duplicates\n",
        "df.duplicated().sum()"
      ],
      "metadata": {
        "colab": {
          "base_uri": "https://localhost:8080/"
        },
        "id": "L2tFkf9J1gW-",
        "outputId": "7e0370e5-3418-4ace-c2cf-81dbb5f0a633"
      },
      "execution_count": 65,
      "outputs": [
        {
          "output_type": "execute_result",
          "data": {
            "text/plain": [
              "0"
            ]
          },
          "metadata": {},
          "execution_count": 65
        }
      ]
    },
    {
      "cell_type": "code",
      "execution_count": 29,
      "metadata": {
        "colab": {
          "base_uri": "https://localhost:8080/"
        },
        "id": "r8ixRI9M38um",
        "outputId": "2651a8b6-83b0-4cf2-bb20-f5e35e8dcbf5"
      },
      "outputs": [
        {
          "output_type": "execute_result",
          "data": {
            "text/plain": [
              "array([0, 1])"
            ]
          },
          "metadata": {},
          "execution_count": 29
        }
      ],
      "source": [
        "df['SeniorCitizen'].unique()"
      ]
    },
    {
      "cell_type": "markdown",
      "metadata": {
        "id": "NvS-wVnR4UrQ"
      },
      "source": [
        "0===> NO\n",
        "1===> YES"
      ]
    },
    {
      "cell_type": "markdown",
      "metadata": {
        "id": "0tDou6IV6636"
      },
      "source": [
        "Convert SeniorCitizen values\n",
        "* 1: 'YES'\n",
        "* O: 'NO'"
      ]
    },
    {
      "cell_type": "code",
      "execution_count": 32,
      "metadata": {
        "id": "HpgbvaeP7DOl"
      },
      "outputs": [],
      "source": [
        "df['SeniorCitizen']=df['SeniorCitizen'].replace(1, 'YES')\n",
        "df['SeniorCitizen']=df['SeniorCitizen'].replace(0, 'NO')"
      ]
    },
    {
      "cell_type": "code",
      "execution_count": 33,
      "metadata": {
        "colab": {
          "base_uri": "https://localhost:8080/"
        },
        "id": "w9lbIeBE727M",
        "outputId": "0698f75d-fc45-41b8-e84c-50ef49c06727"
      },
      "outputs": [
        {
          "output_type": "execute_result",
          "data": {
            "text/plain": [
              "array(['NO', 'YES'], dtype=object)"
            ]
          },
          "metadata": {},
          "execution_count": 33
        }
      ],
      "source": [
        "df['SeniorCitizen'].unique()"
      ]
    },
    {
      "cell_type": "code",
      "source": [
        "df['TotalCharges'].unique()"
      ],
      "metadata": {
        "colab": {
          "base_uri": "https://localhost:8080/"
        },
        "id": "eoeTajfY179Q",
        "outputId": "3097ffc8-57a1-4a28-d9c2-f5c1dcb95306"
      },
      "execution_count": 66,
      "outputs": [
        {
          "output_type": "execute_result",
          "data": {
            "text/plain": [
              "array([  29.85, 1889.5 ,  108.15, ...,  346.45,  306.6 , 6844.5 ])"
            ]
          },
          "metadata": {},
          "execution_count": 66
        }
      ]
    },
    {
      "cell_type": "markdown",
      "metadata": {
        "id": "UCMj6YP479xm"
      },
      "source": [
        "Correct the data type of 'TotalCharges'"
      ]
    },
    {
      "cell_type": "code",
      "execution_count": 34,
      "metadata": {
        "id": "sfkadWi28kQa"
      },
      "outputs": [],
      "source": [
        "#3 df['TotalCharges'].str.contains(\"\").sum()\n",
        "df['TotalCharges']=pd.to_numeric(df['TotalCharges'], errors='coerce')\n"
      ]
    },
    {
      "cell_type": "code",
      "execution_count": 35,
      "metadata": {
        "colab": {
          "base_uri": "https://localhost:8080/"
        },
        "id": "rxkj6eiaE1Is",
        "outputId": "3e9f2f9e-49fb-482e-da0f-318f06cf7d54"
      },
      "outputs": [
        {
          "output_type": "execute_result",
          "data": {
            "text/plain": [
              "11"
            ]
          },
          "metadata": {},
          "execution_count": 35
        }
      ],
      "source": [
        "df['TotalCharges'].isnull().sum()"
      ]
    },
    {
      "cell_type": "markdown",
      "metadata": {
        "id": "QuWjXiJvFiat"
      },
      "source": [
        "* There are missing values here, a small ratio to the data size and they were lost completly at random, so dropping them will not affect the data analysis"
      ]
    },
    {
      "cell_type": "code",
      "execution_count": 36,
      "metadata": {
        "id": "C1nBZU-5GBYc"
      },
      "outputs": [],
      "source": [
        "df.dropna(subset=['TotalCharges'], inplace=True)"
      ]
    },
    {
      "cell_type": "markdown",
      "metadata": {
        "id": "xS2PCyQcL19F"
      },
      "source": [
        "# EDA"
      ]
    },
    {
      "cell_type": "code",
      "execution_count": 37,
      "metadata": {
        "colab": {
          "base_uri": "https://localhost:8080/"
        },
        "id": "1zag-uLqL1D8",
        "outputId": "7327c000-3c25-4b09-cbcc-f5228d0494e7"
      },
      "outputs": [
        {
          "output_type": "execute_result",
          "data": {
            "text/plain": [
              "Index(['customerID', 'gender', 'SeniorCitizen', 'Partner', 'Dependents',\n",
              "       'tenure', 'PhoneService', 'MultipleLines', 'InternetService',\n",
              "       'OnlineSecurity', 'OnlineBackup', 'DeviceProtection', 'TechSupport',\n",
              "       'StreamingTV', 'StreamingMovies', 'Contract', 'PaperlessBilling',\n",
              "       'PaymentMethod', 'MonthlyCharges', 'TotalCharges', 'Churn'],\n",
              "      dtype='object')"
            ]
          },
          "metadata": {},
          "execution_count": 37
        }
      ],
      "source": [
        "df.columns"
      ]
    },
    {
      "cell_type": "markdown",
      "metadata": {
        "id": "K5fpfeiPOT5G"
      },
      "source": [
        "## What is the overall chunning rate?"
      ]
    },
    {
      "cell_type": "code",
      "execution_count": 38,
      "metadata": {
        "colab": {
          "base_uri": "https://localhost:8080/",
          "height": 428
        },
        "id": "4E0XCE1WOkad",
        "outputId": "376d7052-ad38-417b-91cc-995f99f5537a"
      },
      "outputs": [
        {
          "output_type": "display_data",
          "data": {
            "text/plain": [
              "<Figure size 640x480 with 1 Axes>"
            ],
            "image/png": "[encoded data removed]"
          },
          "metadata": {}
        }
      ],
      "source": [
        "churn_rate=df['Churn'].value_counts()\n",
        "churn_rate\n",
        "plt.pie(churn_rate.values, labels=churn_rate.index, autopct='%1.1f%%', colors=[\"blue\", \"lightskyblue\"])\n",
        "plt.title('Churn Rate')\n",
        "plt.show()"
      ]
    },
    {
      "cell_type": "markdown",
      "metadata": {
        "id": "WrHfEUymR01H"
      },
      "source": [
        "* Insight: Around a quarter of the customers left in last month"
      ]
    },
    {
      "cell_type": "markdown",
      "metadata": {
        "id": "x7Of4jJ95zOO"
      },
      "source": [
        "## What is the gender ration in the company?"
      ]
    },
    {
      "cell_type": "code",
      "execution_count": 39,
      "metadata": {
        "colab": {
          "base_uri": "https://localhost:8080/",
          "height": 406
        },
        "id": "L_khknyv6lIP",
        "outputId": "10b390da-ffb7-4948-b680-d36897e37969"
      },
      "outputs": [
        {
          "output_type": "display_data",
          "data": {
            "text/plain": [
              "<Figure size 640x480 with 1 Axes>"
            ],
            "image/png": "[encoded data removed]"
          },
          "metadata": {}
        }
      ],
      "source": [
        "gender_rate=df['gender'].value_counts()\n",
        "#create a pie chart\n",
        "plt.pie(gender_rate.values, labels=gender_rate.index, colors=[\"blue\", \"pink\"], autopct='%1.1f%%')\n",
        "#ADD A CIRCLE AT THE CENTRE TO TRANSFORM IT TO DONUT CHART\n",
        "my_circle=plt.Circle((0,0), 0.4, color='white')\n",
        "p=plt.gcf()\n",
        "p.gca().add_artist(my_circle)\n",
        "plt.show()"
      ]
    },
    {
      "cell_type": "markdown",
      "metadata": {
        "id": "kYEHl7vn6xM9"
      },
      "source": [
        "* The gender ratio has a slight difference"
      ]
    },
    {
      "cell_type": "markdown",
      "source": [
        "## Is there a gender that is leaving at a higher rate than the other?"
      ],
      "metadata": {
        "id": "FtPFP9O13Whz"
      }
    },
    {
      "cell_type": "code",
      "execution_count": 57,
      "metadata": {
        "colab": {
          "base_uri": "https://localhost:8080/",
          "height": 472
        },
        "id": "T6sTrLjGQzaS",
        "outputId": "ed153bb6-8a7b-42b4-afab-783d0ed1966c"
      },
      "outputs": [
        {
          "output_type": "display_data",
          "data": {
            "text/plain": [
              "<Figure size 640x480 with 1 Axes>"
            ],
            "image/png": "[encoded data removed]"
          },
          "metadata": {}
        }
      ],
      "source": [
        "sns.countplot(x=\"gender\", hue=\"Churn\", palette=['blue',\"lightskyblue\"], data=df)\n",
        "plt.title(\"Churn Rate by Gender\")\n",
        "plt.xlabel('Gender')\n",
        "plt.ylabel('Count')\n",
        "plt.show()"
      ]
    },
    {
      "cell_type": "markdown",
      "metadata": {
        "id": "GHdM7Q8sQjB4"
      },
      "source": [
        "* Insight: There is no specific gender leaving at higher rate than the other. hence Gender does not affect our churning rate"
      ]
    },
    {
      "cell_type": "markdown",
      "metadata": {
        "id": "V-pWlyYc68oz"
      },
      "source": [
        "### Dose being a senior citizen influence the likelihood of churn?"
      ]
    },
    {
      "cell_type": "code",
      "execution_count": 56,
      "metadata": {
        "colab": {
          "base_uri": "https://localhost:8080/",
          "height": 472
        },
        "id": "eN3D7gkP6-vK",
        "outputId": "04051934-e5b0-42ae-c674-b85c0690ef88"
      },
      "outputs": [
        {
          "output_type": "display_data",
          "data": {
            "text/plain": [
              "<Figure size 640x480 with 1 Axes>"
            ],
            "image/png": "[encoded data removed]"
          },
          "metadata": {}
        }
      ],
      "source": [
        "sns.countplot(x = \"SeniorCitizen\", hue=\"Churn\", palette=['blue',\"lightskyblue\"], data= df)\n",
        "plt.title(\"Senior Citizen Effect on the Churn Rate \")\n",
        "plt.xlabel(\"Senior Citizen\")\n",
        "plt.ylabel(\"Count\")\n",
        "plt.show()"
      ]
    },
    {
      "cell_type": "markdown",
      "metadata": {
        "id": "eXFoxKqT7NIg"
      },
      "source": [
        "* It can be noticed that even though the ratio of senior citizens among the customers is lower, the likelihood of churn is high for senior citizens compared to non-senior citizens, but there's also a high chance that some senior citizens won't churn,"
      ]
    },
    {
      "cell_type": "markdown",
      "metadata": {
        "id": "zSA_Yh8O7wDX"
      },
      "source": [
        "### How much charges do the custmoers mostly pay?"
      ]
    },
    {
      "cell_type": "code",
      "execution_count": 42,
      "metadata": {
        "colab": {
          "base_uri": "https://localhost:8080/",
          "height": 489
        },
        "id": "cxNkzjZXJyai",
        "outputId": "6c0c44a4-98af-4a52-8e78-a7519a74a53c"
      },
      "outputs": [
        {
          "output_type": "execute_result",
          "data": {
            "text/plain": [
              "Text(0.5, 1.0, 'TotalCharges Outliers')"
            ]
          },
          "metadata": {},
          "execution_count": 42
        },
        {
          "output_type": "display_data",
          "data": {
            "text/plain": [
              "<Figure size 640x480 with 1 Axes>"
            ],
            "image/png": "[encoded data removed]"
          },
          "metadata": {}
        }
      ],
      "source": [
        "plt.hist(df['TotalCharges'], color=\"blue\")\n",
        "plt.xlabel('ToatalCharges')\n",
        "plt.ylabel('Count')\n",
        "plt.title('TotalCharges Outliers')"
      ]
    },
    {
      "cell_type": "markdown",
      "metadata": {
        "id": "kOkbvw6uKBtJ"
      },
      "source": [
        "* Insight: It appears it has a skewed distribution which signifies that most of the customers pay less 2000. The number of customers decreases with increase in total cahrges"
      ]
    },
    {
      "cell_type": "markdown",
      "metadata": {
        "id": "pxKSFNRPABb_"
      },
      "source": [
        "## Effects of customers having or not having a partiner on churn rate"
      ]
    },
    {
      "cell_type": "code",
      "execution_count": 55,
      "metadata": {
        "colab": {
          "base_uri": "https://localhost:8080/",
          "height": 472
        },
        "id": "ABnd-xwdZlET",
        "outputId": "09558186-a792-4d39-9f2b-0780719833cb"
      },
      "outputs": [
        {
          "output_type": "display_data",
          "data": {
            "text/plain": [
              "<Figure size 640x480 with 1 Axes>"
            ],
            "image/png": "[encoded data removed]"
          },
          "metadata": {}
        }
      ],
      "source": [
        "sns.countplot(x = \"Partner\", hue=\"Churn\", palette=['blue',\"lightskyblue\"], data= df)\n",
        " ##sns.countplot(x = df['Dependent'], palette=['#432371',\"#FAAE7B\"]);\n",
        "plt.title(\"Churn rate of customer partiners or without \")\n",
        "\n",
        "\n",
        "plt.show()"
      ]
    },
    {
      "cell_type": "markdown",
      "metadata": {
        "id": "QF2w7xDtASBX"
      },
      "source": [
        "* Insight: Despite the number of customer without a partner being lower than those with partners, their rate of channing is higher as comapred with those with a partiner."
      ]
    },
    {
      "cell_type": "markdown",
      "metadata": {
        "id": "OamoT7peAtJH"
      },
      "source": [
        "## Does having dependents affect the churning rate?"
      ]
    },
    {
      "cell_type": "code",
      "execution_count": 61,
      "metadata": {
        "colab": {
          "base_uri": "https://localhost:8080/",
          "height": 497
        },
        "id": "m70t-BINA1Sx",
        "outputId": "4f48a0a7-d273-4abb-a231-2dd16e9d21ad"
      },
      "outputs": [
        {
          "output_type": "execute_result",
          "data": {
            "text/plain": [
              "<matplotlib.legend.Legend at 0x7f865fc8a110>"
            ]
          },
          "metadata": {},
          "execution_count": 61
        },
        {
          "output_type": "display_data",
          "data": {
            "text/plain": [
              "<Figure size 640x480 with 1 Axes>"
            ],
            "image/png": "[encoded data removed]"
          },
          "metadata": {}
        }
      ],
      "source": [
        "df_grouped=df.groupby(['Dependents', 'Churn']).size().unstack()\n",
        "df_grouped.plot(kind='bar', color=[\"blue\", \"lightskyblue\"], stacked=True)\n",
        "plt.title(\"Churn Distribution by Dependents\")\n",
        "plt.xlabel(\"Dependent\")\n",
        "plt.ylabel(\"Count\")\n",
        "plt.legend([\"Non-Churned\", \"Churned\"])"
      ]
    },
    {
      "cell_type": "markdown",
      "metadata": {
        "id": "6TalsmQSEUGb"
      },
      "source": [
        "* It's noted that most of our customers don't have dependents, and they also more likely to leave compared to customers with dependents"
      ]
    },
    {
      "cell_type": "markdown",
      "metadata": {
        "id": "466y3H8whu_z"
      },
      "source": [
        "## Is there a correleation between tenure and churn rate?"
      ]
    },
    {
      "cell_type": "code",
      "execution_count": 45,
      "metadata": {
        "colab": {
          "base_uri": "https://localhost:8080/"
        },
        "id": "rP3MqCRph935",
        "outputId": "e31410e7-f9b4-468a-8dd7-82c609c4d7c4"
      },
      "outputs": [
        {
          "output_type": "execute_result",
          "data": {
            "text/plain": [
              "array([ 1, 34,  2, 45,  8, 22, 10, 28, 62, 13, 16, 58, 49, 25, 69, 52, 71,\n",
              "       21, 12, 30, 47, 72, 17, 27,  5, 46, 11, 70, 63, 43, 15, 60, 18, 66,\n",
              "        9,  3, 31, 50, 64, 56,  7, 42, 35, 48, 29, 65, 38, 68, 32, 55, 37,\n",
              "       36, 41,  6,  4, 33, 67, 23, 57, 61, 14, 20, 53, 40, 59, 24, 44, 19,\n",
              "       54, 51, 26, 39])"
            ]
          },
          "metadata": {},
          "execution_count": 45
        }
      ],
      "source": [
        "df[\"tenure\"].unique()"
      ]
    },
    {
      "cell_type": "code",
      "execution_count": 59,
      "metadata": {
        "colab": {
          "base_uri": "https://localhost:8080/",
          "height": 579
        },
        "id": "Fvl7TnMHiMuu",
        "outputId": "ae3f3853-6dca-45ce-d466-d9c1b0898f09"
      },
      "outputs": [
        {
          "output_type": "stream",
          "name": "stderr",
          "text": [
            "<ipython-input-59-474a50b19fa0>:1: FutureWarning: \n",
            "\n",
            "Passing `palette` without assigning `hue` is deprecated and will be removed in v0.14.0. Assign the `x` variable to `hue` and set `legend=False` for the same effect.\n",
            "\n",
            "  sns.boxplot(x= \"Churn\", y=\"tenure\",  palette=['blue',\"lightskyblue\"], data = df)\n"
          ]
        },
        {
          "output_type": "display_data",
          "data": {
            "text/plain": [
              "<Figure size 640x480 with 1 Axes>"
            ],
            "image/png": "[encoded data removed]"
          },
          "metadata": {}
        }
      ],
      "source": [
        "sns.boxplot(x= \"Churn\", y=\"tenure\",  palette=['blue',\"lightskyblue\"], data = df)\n",
        "plt.title(\"Churn Rate by Tenure\")\n",
        "plt.xlabel(\"Churn\")\n",
        "plt.ylabel(\"Tenure\")\n",
        "plt.show()"
      ]
    },
    {
      "cell_type": "markdown",
      "metadata": {
        "id": "g6mgrZ6RkmYX"
      },
      "source": [
        "- It appears that The shorter the duration customers spend with the company  the higher their chances of churning\n",
        "\n",
        "- The avarage tunre rate is about 10 years"
      ]
    },
    {
      "cell_type": "markdown",
      "metadata": {
        "id": "pEqjIqPYkoE_"
      },
      "source": [
        "## Dose the presence or absence of phone service impact churn behavior?"
      ]
    },
    {
      "cell_type": "code",
      "execution_count": 47,
      "metadata": {
        "colab": {
          "base_uri": "https://localhost:8080/"
        },
        "id": "nKlZjBhGkv3h",
        "outputId": "cc5d0084-b0c0-4e78-d678-40683d5ee31c"
      },
      "outputs": [
        {
          "output_type": "execute_result",
          "data": {
            "text/plain": [
              "Yes    6352\n",
              "No      680\n",
              "Name: PhoneService, dtype: int64"
            ]
          },
          "metadata": {},
          "execution_count": 47
        }
      ],
      "source": [
        "df[\"PhoneService\"].value_counts()"
      ]
    },
    {
      "cell_type": "code",
      "execution_count": 48,
      "metadata": {
        "colab": {
          "base_uri": "https://localhost:8080/",
          "height": 428
        },
        "id": "yxSJEvRjk2D1",
        "outputId": "2ca1057f-d269-446b-bfe2-73a2a927aaeb"
      },
      "outputs": [
        {
          "output_type": "display_data",
          "data": {
            "text/plain": [
              "<Figure size 640x480 with 1 Axes>"
            ],
            "image/png": "[encoded data removed]"
          },
          "metadata": {}
        }
      ],
      "source": [
        "phone_values = df[\"PhoneService\"].value_counts().values\n",
        "labels = [\"With PhoneServices\", \"Without PhonServices\"]\n",
        "sizes = [6352, 680]\n",
        "plt.pie(sizes, labels= labels, colors=[\"blue\", \"lightskyblue\"],   autopct=\"%1.1f%%\")\n",
        "plt.axis(\"equal\")\n",
        "plt.title(\"PhoneService precense or Absence\")\n",
        "plt.show()"
      ]
    },
    {
      "cell_type": "markdown",
      "metadata": {
        "id": "q8ui67sslD4G"
      },
      "source": [
        "- Based on the visualization the largest portion of our customers have phone services\n",
        "\n",
        "- There is a fair ratio of the churn rate between having or not having the phone service, hence it is not the main effect of churning"
      ]
    },
    {
      "cell_type": "markdown",
      "metadata": {
        "id": "8xFV-fyDlfr0"
      },
      "source": [
        "## How dose having multiple lines or not affect the curn rate?"
      ]
    },
    {
      "cell_type": "markdown",
      "metadata": {
        "id": "TeEsE9T0l5t6"
      },
      "source": []
    },
    {
      "cell_type": "code",
      "execution_count": 49,
      "metadata": {
        "colab": {
          "base_uri": "https://localhost:8080/"
        },
        "id": "5MUByk_illqv",
        "outputId": "5e745046-3d7c-4480-8da2-67c5ad2eb621"
      },
      "outputs": [
        {
          "output_type": "execute_result",
          "data": {
            "text/plain": [
              "array(['No phone service', 'No', 'Yes'], dtype=object)"
            ]
          },
          "metadata": {},
          "execution_count": 49
        }
      ],
      "source": [
        "df[\"MultipleLines\"].unique()"
      ]
    },
    {
      "cell_type": "code",
      "execution_count": 58,
      "metadata": {
        "colab": {
          "base_uri": "https://localhost:8080/",
          "height": 595
        },
        "id": "koqSgPJblvIk",
        "outputId": "542a4930-b222-42d0-af75-56ee55b5147e"
      },
      "outputs": [
        {
          "output_type": "execute_result",
          "data": {
            "text/plain": [
              "<matplotlib.legend.Legend at 0x7f8660353b50>"
            ]
          },
          "metadata": {},
          "execution_count": 58
        },
        {
          "output_type": "display_data",
          "data": {
            "text/plain": [
              "<Figure size 640x480 with 1 Axes>"
            ],
            "image/png": "[encoded data removed]"
          },
          "metadata": {}
        }
      ],
      "source": [
        "df_grouped = df.groupby([\"MultipleLines\", \"Churn\"]).size().unstack()\n",
        "df_grouped.plot(kind= \"bar\", color=[\"blue\", \"lightskyblue\"], stacked=True)\n",
        "plt.title(\"Churn Distribution by MultipleLines\")\n",
        "plt.xlabel(\"MultipleLines\")\n",
        "plt.ylabel(\"Count\")\n",
        "plt.legend([\"Non-Churned\", \"Churned\"])"
      ]
    },
    {
      "cell_type": "markdown",
      "metadata": {
        "id": "MJGspQAjl69N"
      },
      "source": [
        "- The portion of the customers who have phone service but without multiple lines is a little bit higher than who have multiple lines\n",
        "- some customers don't even have phone service to have mulitiple lines or not\n",
        "- It appears that there's no significant diffference churning rate between customers with Multiple lines of the phone service and those without it"
      ]
    },
    {
      "cell_type": "markdown",
      "metadata": {
        "id": "879X_f4BmJqV"
      },
      "source": [
        "## Which internet Service Provider has the highest churn rate?"
      ]
    },
    {
      "cell_type": "code",
      "execution_count": 51,
      "metadata": {
        "colab": {
          "base_uri": "https://localhost:8080/"
        },
        "id": "91t9kNwlmXFh",
        "outputId": "cc902b89-1fa0-4518-acf5-b7d9ebe91306"
      },
      "outputs": [
        {
          "output_type": "execute_result",
          "data": {
            "text/plain": [
              "array(['DSL', 'Fiber optic', 'No'], dtype=object)"
            ]
          },
          "metadata": {},
          "execution_count": 51
        }
      ],
      "source": [
        "df[\"InternetService\"].unique()"
      ]
    },
    {
      "cell_type": "code",
      "execution_count": 52,
      "metadata": {
        "colab": {
          "base_uri": "https://localhost:8080/",
          "height": 427
        },
        "id": "NU-GZG4mmbui",
        "outputId": "d7247d70-3d51-497c-9549-428e55f6d44c"
      },
      "outputs": [
        {
          "output_type": "execute_result",
          "data": {
            "text/plain": [
              "Text(0.5, 1.0, 'Chur Rate by Internet Service')"
            ]
          },
          "metadata": {},
          "execution_count": 52
        },
        {
          "output_type": "display_data",
          "data": {
            "text/plain": [
              "<Figure size 800x400 with 1 Axes>"
            ],
            "image/png": "[encoded data removed]"
          },
          "metadata": {}
        }
      ],
      "source": [
        "df[\"Churn_N\"] = df[\"Churn\"].map({\"Yes\":1, \"No\": 0})\n",
        "internet_churn = df.groupby(\"InternetService\")[\"Churn_N\"].mean().reset_index()\n",
        "internet_churn = internet_churn.sort_values(\"Churn_N\", ascending=False)\n",
        "plt.figure(figsize=(8,4))\n",
        "sns.barplot(x=\"Churn_N\", y=\"InternetService\", data= internet_churn, color = \"lightskyblue\")\n",
        "plt.xlabel(\"Churn Rate\")\n",
        "plt.ylabel(\"Internet Service\")\n",
        "plt.title(\"Chur Rate by Internet Service\")"
      ]
    },
    {
      "cell_type": "markdown",
      "metadata": {
        "id": "xq4oAffOmtup"
      },
      "source": [
        "* Based on the visualization, it seems that the highest portion of churning customers were using Fiber Optic as an internet service provider"
      ]
    },
    {
      "cell_type": "markdown",
      "metadata": {
        "id": "nzyG68QOmzEa"
      },
      "source": [
        "## Do customers with online security tend to churn less frequently?"
      ]
    },
    {
      "cell_type": "code",
      "execution_count": 53,
      "metadata": {
        "colab": {
          "base_uri": "https://localhost:8080/",
          "height": 607
        },
        "id": "sENtIg-voi-V",
        "outputId": "ce9a478d-f82b-4b6b-97fe-cd3e2c0f376b"
      },
      "outputs": [
        {
          "output_type": "execute_result",
          "data": {
            "text/plain": [
              "<matplotlib.legend.Legend at 0x7f8665f5bf10>"
            ]
          },
          "metadata": {},
          "execution_count": 53
        },
        {
          "output_type": "display_data",
          "data": {
            "text/plain": [
              "<Figure size 640x480 with 1 Axes>"
            ],
            "image/png": "[encoded data removed]"
          },
          "metadata": {}
        }
      ],
      "source": [
        "df_grouped = df.groupby([\"OnlineSecurity\", \"Churn\"]).size().unstack()\n",
        "df_grouped.plot(kind= \"bar\", color=[\"blue\", \"lightskyblue\"], stacked=True)\n",
        "plt.title(\"Churn Distribution by OnlineSecurity\")\n",
        "plt.xlabel(\"OnlineSecurity\")\n",
        "plt.ylabel(\"Count\")\n",
        "plt.legend([\"Non-Churned\", \"Churned\"])"
      ]
    },
    {
      "cell_type": "markdown",
      "metadata": {
        "id": "8CeL3tJ8pU2n"
      },
      "source": [
        "- The larger ratio of the customers don't have Online security service, and it appears that they tend to churn more than the customers with online security"
      ]
    },
    {
      "cell_type": "markdown",
      "metadata": {
        "id": "ZWR2dbjnpW2w"
      },
      "source": [
        "# **Finding**\n",
        "\n",
        "Features that have an influence on the churn rate:\n",
        "- SeniorCitizen: yes\n",
        "- Partner: no\n",
        "- Dependents: no\n",
        "- Tenure: low tenure\n",
        "- InternetService: fiber optic\n",
        "- OnlineSecurity: no\n",
        "\n",
        "Features that don't have an influence on the churn rate:\n",
        "- Gender\n",
        "-PhoneService\n",
        "- MultipleLines"
      ]
    }
  ],
  "metadata": {
    "colab": {
      "provenance": []
    },
    "kernelspec": {
      "display_name": "Python 3",
      "name": "python3"
    },
    "language_info": {
      "name": "python"
    }
  },
  "nbformat": 4,
  "nbformat_minor": 0
}